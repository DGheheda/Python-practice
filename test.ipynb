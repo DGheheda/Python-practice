{
 "cells": [
  {
   "cell_type": "code",
   "execution_count": 68,
   "metadata": {},
   "outputs": [],
   "source": [
    "import os\n",
    "import pdfplumber as pdp\n",
    "pdf=pdp.open('P3-205397&WU_210805174340.pdf')"
   ]
  },
  {
   "cell_type": "code",
   "execution_count": 69,
   "metadata": {},
   "outputs": [],
   "source": [
    "png_path='C:\\\\Users\\\\David\\\\Desktop'"
   ]
  },
  {
   "cell_type": "code",
   "execution_count": 72,
   "metadata": {},
   "outputs": [
    {
     "name": "stdout",
     "output_type": "stream",
     "text": [
      "----分割线,第1页----\n"
     ]
    }
   ],
   "source": [
    "for a,b in enumerate(pdf.pages[:1]):\n",
    "    im=b.to_image(resolution=150)\n",
    "    save = os.path.join(png_path, '%s.png' % (int(a) + 1))\n",
    "    im.save(save)\n",
    "    print('----分割线,第%d页----' % (int(a) + 1))"
   ]
  }
 ],
 "metadata": {
  "kernelspec": {
   "display_name": "Python 3",
   "language": "python",
   "name": "python3"
  },
  "language_info": {
   "codemirror_mode": {
    "name": "ipython",
    "version": 3
   },
   "file_extension": ".py",
   "mimetype": "text/x-python",
   "name": "python",
   "nbconvert_exporter": "python",
   "pygments_lexer": "ipython3",
   "version": "3.12.1"
  },
  "orig_nbformat": 4
 },
 "nbformat": 4,
 "nbformat_minor": 2
}
